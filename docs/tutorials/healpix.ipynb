{
 "cells": [
  {
   "cell_type": "markdown",
   "id": "0",
   "metadata": {},
   "source": [
    "# Working with Healpix data\n",
    "\n",
    "Healpix has been used in cosmology for more than 20 years. See https://healpix.jpl.nasa.gov/html/intro.htm for more information.\n",
    "\n",
    "Healpix divides the sphere into sperical rectangles (\"pixels\") of equal size, starting with 12 \"base pixels\". Each of these \"base pixels\" is then further subdivided into 4 equally sized rectangles. The number of subdivisions is called \"order\", while the total number of rectangles within a \"base pixel\" is called \"nside\" (the relation between both is {math}`n_{\\mathrm{side}} = 2^{\\mathrm{order}}`).\n",
    "\n",
    "There are two major ways of numbering the \"pixels\" (the \"indexing scheme\"):\n",
    "- `\"ring\"`, which assigns IDs to pixels based on the latitude rings they are on, such that pixels on the same latitude will have IDs close to each other.\n",
    "- `\"nested\"`, which assigns IDs based on the pixel hierarchy, such that pixels within the same parent pixel have IDs close to each other.\n",
    "\n",
    "(Some Healpix libraries use the boolean `nest` to indicate the indexing scheme)"
   ]
  },
  {
   "cell_type": "markdown",
   "id": "1",
   "metadata": {},
   "source": [
    "## Import libraries"
   ]
  },
  {
   "cell_type": "code",
   "execution_count": null,
   "id": "2",
   "metadata": {},
   "outputs": [],
   "source": [
    "import xarray as xr\n",
    "\n",
    "import xdggs\n",
    "\n",
    "_ = xr.set_options(display_expand_data=False)"
   ]
  },
  {
   "cell_type": "markdown",
   "id": "3",
   "metadata": {},
   "source": [
    "## Initialization\n",
    "\n",
    "To initialize, we first have to open the dataset. Here we'll use `xarray`'s `air_temperature` tutorial dataset, which was interpolated to the healpix grid.\n",
    "\n",
    "```{tip}\n",
    "If the dataset you want to work on is not already on a healpix grid, you will have to use a different package to interpolate.\n",
    "```\n",
    "\n",
    "```{warning}\n",
    "For the purpose of this tutorial we drop the geographic coordinates and load all data into memory, but this is not required.\n",
    "```"
   ]
  },
  {
   "cell_type": "code",
   "execution_count": null,
   "id": "4",
   "metadata": {},
   "outputs": [],
   "source": [
    "original_ds = xdggs.tutorial.open_dataset(\"air_temperature\", \"healpix\").load()\n",
    "air_temperature = original_ds.drop_vars([\"lat\", \"lon\"])\n",
    "air_temperature"
   ]
  },
  {
   "cell_type": "markdown",
   "id": "5",
   "metadata": {},
   "source": [
    "After that, we can use {py:func}`xdggs.decode` to tell `xdggs` to interpret the cell ids.\n",
    "\n",
    "This will create a grid object (see {py:attr}`xarray.Dataset.dggs.grid_info` and {py:class}`xdggs.HealpixInfo` for more information) containing the grid parameters and a custom index for the `cell_ids` coordinate (notice how the coordinate name is displayed in bold), which will allow us to perform grid-aware operations.\n",
    "\n",
    "````{important}\n",
    "For this to work, the dataset has to have a coordinate called `cell_ids`, and it also has to have the `grid_name`, `level` and `indexing_scheme` attributes.\n",
    "\n",
    "The `grid_name` refers to the short name of the grid, while `level` refers to the grid hierarchical level (the `healpix` libraries call this the \"order\", while `xdggs` will use \"level\" for all grids), and the indexing scheme depends on the dataset.\n",
    "\n",
    "In this case, the attributes on `cell_ids` are:\n",
    "```python\n",
    "{\n",
    "    \"grid_name\": \"healpix\",\n",
    "    \"level\": 4,\n",
    "    \"indexing_scheme\": \"nested\",\n",
    "}\n",
    "```\n",
    "````"
   ]
  },
  {
   "cell_type": "code",
   "execution_count": null,
   "id": "6",
   "metadata": {},
   "outputs": [],
   "source": [
    "ds = air_temperature.pipe(xdggs.decode)\n",
    "ds"
   ]
  },
  {
   "cell_type": "markdown",
   "id": "7",
   "metadata": {},
   "source": [
    "## Deriving data\n",
    "\n",
    "With the grid object and the custom index, we can derive additional data from the cell ids.\n",
    "\n",
    "### Cell center coordinates\n",
    "\n",
    "For example, we can reconstruct the cell centers we dropped from the original dataset, using {py:meth}`xarray.Dataset.dggs.cell_centers`:"
   ]
  },
  {
   "cell_type": "code",
   "execution_count": null,
   "id": "8",
   "metadata": {},
   "outputs": [],
   "source": [
    "cell_centers = ds.dggs.cell_centers()\n",
    "cell_centers"
   ]
  },
  {
   "cell_type": "markdown",
   "id": "9",
   "metadata": {},
   "source": [
    "These are the same as the ones we dropped before:"
   ]
  },
  {
   "cell_type": "code",
   "execution_count": null,
   "id": "10",
   "metadata": {},
   "outputs": [],
   "source": [
    "derived_ds = ds.assign_coords(\n",
    "    cell_centers.rename_vars({\"latitude\": \"lat\", \"longitude\": \"lon\"}).coords\n",
    ")\n",
    "derived_ds"
   ]
  },
  {
   "cell_type": "markdown",
   "id": "11",
   "metadata": {},
   "source": [
    "```{note}\n",
    "We need to use {py:func}`xarray.testing.assert_allclose` to compare cell centers because the cell center coordinates were computed using a [different library](https://github.com/healpy/healpy) with a slightly different implementation, resulting in small floating point differences.\n",
    "```"
   ]
  },
  {
   "cell_type": "code",
   "execution_count": null,
   "id": "12",
   "metadata": {},
   "outputs": [],
   "source": [
    "xr.testing.assert_allclose(derived_ds, original_ds)"
   ]
  },
  {
   "cell_type": "markdown",
   "id": "13",
   "metadata": {},
   "source": [
    "### Cell boundary polygons\n",
    "\n",
    "Additionally, we can derive the cell boundary polygons as an array of {doc}`shapely:index` using {py:meth}`xarray.Dataset.dggs.cell_boundaries`:"
   ]
  },
  {
   "cell_type": "code",
   "execution_count": null,
   "id": "14",
   "metadata": {},
   "outputs": [],
   "source": [
    "cell_boundaries = ds.dggs.cell_boundaries()\n",
    "cell_boundaries"
   ]
  },
  {
   "cell_type": "markdown",
   "id": "15",
   "metadata": {},
   "source": [
    "## Plotting\n",
    "\n",
    "We can quickly visualize the data using {py:meth}`xarray.DataArray.dggs.explore`, which is powered by [lonboard](https://github.com/developmentseed/lonboard).\n",
    "\n",
    "```{note}\n",
    "The slider requires a running kernel, so this won't work in static documentation.\n",
    "```"
   ]
  },
  {
   "cell_type": "code",
   "execution_count": null,
   "id": "16",
   "metadata": {},
   "outputs": [],
   "source": [
    "ds[\"air\"].dggs.explore()"
   ]
  },
  {
   "cell_type": "markdown",
   "id": "17",
   "metadata": {},
   "source": [
    "We can also combine multiple maps:"
   ]
  },
  {
   "cell_type": "code",
   "execution_count": null,
   "id": "18",
   "metadata": {},
   "outputs": [],
   "source": [
    "ds[\"air\"].dggs.explore(alpha=0.8, cmap=\"viridis\") | ds[\"air\"].dggs.explore(\n",
    "    alpha=0.8, cmap=\"coolwarm\", center=273.15\n",
    ")"
   ]
  }
 ],
 "metadata": {
  "language_info": {
   "codemirror_mode": {
    "name": "ipython",
    "version": 3
   },
   "file_extension": ".py",
   "mimetype": "text/x-python",
   "name": "python",
   "nbconvert_exporter": "python",
   "pygments_lexer": "ipython3",
   "version": "3.13.7"
  }
 },
 "nbformat": 4,
 "nbformat_minor": 5
}
